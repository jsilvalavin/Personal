{
 "cells": [
  {
   "cell_type": "markdown",
   "id": "1c30d8e1",
   "metadata": {},
   "source": [
    "# Ayudantía 1 - Notebook 3\n",
    "### Profesor: Elwin van 't Wout\n",
    "### Ayudante: Alberto Almuna Morales (alberto.almuna@uc.cl)"
   ]
  },
  {
   "cell_type": "markdown",
   "id": "801f0f24",
   "metadata": {},
   "source": [
    "The library `joblib` provides functionality for parallel computing. In this notebook, let us look into the information that can be printed."
   ]
  },
  {
   "cell_type": "code",
   "execution_count": 1,
   "id": "61aa2cbe",
   "metadata": {},
   "outputs": [],
   "source": [
    "import numpy as np\n",
    "from joblib import Parallel, delayed"
   ]
  },
  {
   "cell_type": "markdown",
   "id": "b8ee2978",
   "metadata": {},
   "source": [
    "Let us create the tasks to be performed in parallel by the workers: calculating the square root of several numbers."
   ]
  },
  {
   "cell_type": "code",
   "execution_count": 2,
   "id": "adfb598c",
   "metadata": {},
   "outputs": [],
   "source": [
    "tasks = [delayed(np.sqrt)(i) for i in range(100000)]"
   ]
  },
  {
   "cell_type": "markdown",
   "id": "6e813b4a",
   "metadata": {},
   "source": [
    "Upon creating a `Parallel` object with `joblib`, the attribute `verbose` can be set to a number. The higher the number, the more output will be provided by the library."
   ]
  },
  {
   "cell_type": "code",
   "execution_count": 4,
   "id": "dd6db8ac",
   "metadata": {},
   "outputs": [],
   "source": [
    "with Parallel(n_jobs=2, verbose=0) as parallel_pool:\n",
    "    parallel_results = parallel_pool(tasks)"
   ]
  },
  {
   "cell_type": "markdown",
   "id": "1debab32",
   "metadata": {},
   "source": [
    "For a value of zero, no output will be printed. Positive values provide output."
   ]
  },
  {
   "cell_type": "code",
   "execution_count": 5,
   "id": "9dcfb514",
   "metadata": {},
   "outputs": [
    {
     "name": "stderr",
     "output_type": "stream",
     "text": [
      "[Parallel(n_jobs=2)]: Using backend LokyBackend with 2 concurrent workers.\n",
      "[Parallel(n_jobs=2)]: Done 12284 tasks      | elapsed:    0.0s\n",
      "[Parallel(n_jobs=2)]: Done 100000 out of 100000 | elapsed:    0.2s finished\n"
     ]
    }
   ],
   "source": [
    "with Parallel(n_jobs=2, verbose=1) as parallel_pool:\n",
    "    parallel_results = parallel_pool(tasks)"
   ]
  },
  {
   "cell_type": "markdown",
   "id": "f99c5d54",
   "metadata": {},
   "source": [
    "The library prints the number of workers used and every now and then a progress report. A higher value of `verbose` will give increasingly more information at increasingly shorter intervals."
   ]
  },
  {
   "cell_type": "code",
   "execution_count": 6,
   "id": "0593954c",
   "metadata": {},
   "outputs": [
    {
     "name": "stderr",
     "output_type": "stream",
     "text": [
      "[Parallel(n_jobs=2)]: Using backend LokyBackend with 2 concurrent workers.\n",
      "[Parallel(n_jobs=2)]: Done   1 tasks      | elapsed:    0.0s\n",
      "[Parallel(n_jobs=2)]: Batch computation too fast (0.0150s.) Setting batch_size=2.\n",
      "[Parallel(n_jobs=2)]: Done   4 tasks      | elapsed:    0.0s\n",
      "[Parallel(n_jobs=2)]: Batch computation too fast (0.0170s.) Setting batch_size=4.\n",
      "[Parallel(n_jobs=2)]: Done  16 tasks      | elapsed:    0.0s\n",
      "[Parallel(n_jobs=2)]: Batch computation too fast (0.0060s.) Setting batch_size=8.\n",
      "[Parallel(n_jobs=2)]: Batch computation too fast (0.0080s.) Setting batch_size=16.\n",
      "[Parallel(n_jobs=2)]: Done  44 tasks      | elapsed:    0.0s\n",
      "[Parallel(n_jobs=2)]: Batch computation too fast (0.0070s.) Setting batch_size=32.\n",
      "[Parallel(n_jobs=2)]: Done 156 tasks      | elapsed:    0.0s\n",
      "[Parallel(n_jobs=2)]: Batch computation too fast (0.0070s.) Setting batch_size=64.\n",
      "[Parallel(n_jobs=2)]: Batch computation too fast (0.0070s.) Setting batch_size=128.\n",
      "[Parallel(n_jobs=2)]: Done 508 tasks      | elapsed:    0.0s\n",
      "[Parallel(n_jobs=2)]: Batch computation too fast (0.0070s.) Setting batch_size=256.\n",
      "[Parallel(n_jobs=2)]: Batch computation too fast (0.0060s.) Setting batch_size=512.\n",
      "[Parallel(n_jobs=2)]: Done 2556 tasks      | elapsed:    0.0s\n",
      "[Parallel(n_jobs=2)]: Batch computation too fast (0.0090s.) Setting batch_size=1024.\n",
      "[Parallel(n_jobs=2)]: Batch computation too fast (0.0120s.) Setting batch_size=2048.\n",
      "[Parallel(n_jobs=2)]: Batch computation too fast (0.0120s.) Setting batch_size=4096.\n",
      "[Parallel(n_jobs=2)]: Done 12284 tasks      | elapsed:    0.0s\n",
      "[Parallel(n_jobs=2)]: Batch computation too fast (0.0190s.) Setting batch_size=8192.\n",
      "[Parallel(n_jobs=2)]: Batch computation too fast (0.0390s.) Setting batch_size=16384.\n",
      "[Parallel(n_jobs=2)]: Done 81916 tasks      | elapsed:    0.2s\n",
      "[Parallel(n_jobs=2)]: Batch computation too fast (0.0860s.) Setting batch_size=32768.\n",
      "[Parallel(n_jobs=2)]: Done 99150 tasks      | elapsed:    0.2s\n",
      "[Parallel(n_jobs=2)]: Done 100000 out of 100000 | elapsed:    0.2s finished\n"
     ]
    }
   ],
   "source": [
    "with Parallel(n_jobs=2, verbose=10) as parallel_pool:\n",
    "    parallel_results = parallel_pool(tasks)"
   ]
  },
  {
   "cell_type": "markdown",
   "id": "8e5f75d7",
   "metadata": {},
   "source": [
    "Notice that the `joblib` library tells that it is adjusting the batch size automatically. The batch size is the number of tasks it dynamically allocates to the workers. By default, it starts with a batch size of one. This means that one task (in our case on square-root calculation) is assigned to a worker, and when it finishes, it will be assigned a next task. Assigning new tasks to workers incurs **overhead**. In this case, calculating a square root is very fast, which is detected by the library and it increases the batch size by a factor of two. This means that a batch of two tasks are given to a worker at the same time.\n",
    "\n",
    "Notice that a fixed batch size can be used by specifying the attribute `batch_size` in the `Parallel` class."
   ]
  },
  {
   "cell_type": "code",
   "execution_count": 7,
   "id": "f9f71ce7",
   "metadata": {},
   "outputs": [
    {
     "name": "stderr",
     "output_type": "stream",
     "text": [
      "[Parallel(n_jobs=2)]: Using backend LokyBackend with 2 concurrent workers.\n",
      "[Parallel(n_jobs=2)]: Done 1004 tasks      | elapsed:    0.0s\n",
      "[Parallel(n_jobs=2)]: Done 4004 tasks      | elapsed:    0.0s\n",
      "[Parallel(n_jobs=2)]: Done 9004 tasks      | elapsed:    0.1s\n",
      "[Parallel(n_jobs=2)]: Done 14004 tasks      | elapsed:    0.1s\n",
      "[Parallel(n_jobs=2)]: Done 21004 tasks      | elapsed:    0.1s\n",
      "[Parallel(n_jobs=2)]: Done 28004 tasks      | elapsed:    0.1s\n",
      "[Parallel(n_jobs=2)]: Done 37004 tasks      | elapsed:    0.2s\n",
      "[Parallel(n_jobs=2)]: Done 46004 tasks      | elapsed:    0.2s\n",
      "[Parallel(n_jobs=2)]: Done 57004 tasks      | elapsed:    0.2s\n",
      "[Parallel(n_jobs=2)]: Done 68004 tasks      | elapsed:    0.3s\n",
      "[Parallel(n_jobs=2)]: Done 81004 tasks      | elapsed:    0.3s\n",
      "[Parallel(n_jobs=2)]: Done 94004 tasks      | elapsed:    0.4s\n",
      "[Parallel(n_jobs=2)]: Done 99093 tasks      | elapsed:    0.4s\n",
      "[Parallel(n_jobs=2)]: Done 100000 out of 100000 | elapsed:    0.4s finished\n"
     ]
    }
   ],
   "source": [
    "with Parallel(n_jobs=2, verbose=10, batch_size=1000) as parallel_pool:\n",
    "    parallel_results = parallel_pool(tasks)"
   ]
  },
  {
   "cell_type": "markdown",
   "id": "d0c5687f",
   "metadata": {},
   "source": [
    "Let us increase increase the verbosity even more."
   ]
  },
  {
   "cell_type": "code",
   "execution_count": 8,
   "id": "710f0e28",
   "metadata": {},
   "outputs": [
    {
     "name": "stdout",
     "output_type": "stream",
     "text": [
      "[Parallel(n_jobs=2)]: Using backend LokyBackend with 2 concurrent workers.\n",
      "[Parallel(n_jobs=2)]: Done   1 tasks      | elapsed:    0.0s\n",
      "[Parallel(n_jobs=2)]: Batch computation too fast (0.0093s.) Setting batch_size=2.\n",
      "[Parallel(n_jobs=2)]: Done   2 tasks      | elapsed:    0.0s\n",
      "[Parallel(n_jobs=2)]: Done   3 tasks      | elapsed:    0.0s\n",
      "[Parallel(n_jobs=2)]: Done   4 tasks      | elapsed:    0.0s\n",
      "[Parallel(n_jobs=2)]: Done   6 tasks      | elapsed:    0.0s\n",
      "[Parallel(n_jobs=2)]: Batch computation too fast (0.0069s.) Setting batch_size=4.\n",
      "[Parallel(n_jobs=2)]: Done   8 tasks      | elapsed:    0.0s\n",
      "[Parallel(n_jobs=2)]: Done  10 tasks      | elapsed:    0.0s\n",
      "[Parallel(n_jobs=2)]: Done  12 tasks      | elapsed:    0.0s\n",
      "[Parallel(n_jobs=2)]: Done  16 tasks      | elapsed:    0.0s\n",
      "[Parallel(n_jobs=2)]: Batch computation too fast (0.0063s.) Setting batch_size=8.\n",
      "[Parallel(n_jobs=2)]: Done  20 tasks      | elapsed:    0.0s\n",
      "[Parallel(n_jobs=2)]: Done  24 tasks      | elapsed:    0.0s\n",
      "[Parallel(n_jobs=2)]: Done  28 tasks      | elapsed:    0.0s\n",
      "[Parallel(n_jobs=2)]: Done  36 tasks      | elapsed:    0.0s\n",
      "[Parallel(n_jobs=2)]: Batch computation too fast (0.0058s.) Setting batch_size=16.\n",
      "[Parallel(n_jobs=2)]: Done  44 tasks      | elapsed:    0.0s\n",
      "[Parallel(n_jobs=2)]: Done  52 tasks      | elapsed:    0.0s\n",
      "[Parallel(n_jobs=2)]: Done  60 tasks      | elapsed:    0.0s\n",
      "[Parallel(n_jobs=2)]: Done  76 tasks      | elapsed:    0.0s\n",
      "[Parallel(n_jobs=2)]: Batch computation too fast (0.0052s.) Setting batch_size=32.\n",
      "[Parallel(n_jobs=2)]: Done  92 tasks      | elapsed:    0.0s\n",
      "[Parallel(n_jobs=2)]: Done 108 tasks      | elapsed:    0.0s\n",
      "[Parallel(n_jobs=2)]: Done 124 tasks      | elapsed:    0.0s\n",
      "[Parallel(n_jobs=2)]: Done 156 tasks      | elapsed:    0.0s\n",
      "[Parallel(n_jobs=2)]: Batch computation too fast (0.0058s.) Setting batch_size=64.\n",
      "[Parallel(n_jobs=2)]: Done 188 tasks      | elapsed:    0.0s\n",
      "[Parallel(n_jobs=2)]: Done 220 tasks      | elapsed:    0.0s\n",
      "[Parallel(n_jobs=2)]: Done 252 tasks      | elapsed:    0.0s\n",
      "[Parallel(n_jobs=2)]: Done 316 tasks      | elapsed:    0.0s\n",
      "[Parallel(n_jobs=2)]: Batch computation too fast (0.0056s.) Setting batch_size=128.\n",
      "[Parallel(n_jobs=2)]: Done 380 tasks      | elapsed:    0.0s\n",
      "[Parallel(n_jobs=2)]: Done 444 tasks      | elapsed:    0.0s\n",
      "[Parallel(n_jobs=2)]: Done 508 tasks      | elapsed:    0.0s\n",
      "[Parallel(n_jobs=2)]: Done 636 tasks      | elapsed:    0.1s\n",
      "[Parallel(n_jobs=2)]: Batch computation too fast (0.0059s.) Setting batch_size=256.\n",
      "[Parallel(n_jobs=2)]: Done 764 tasks      | elapsed:    0.1s\n",
      "[Parallel(n_jobs=2)]: Done 892 tasks      | elapsed:    0.1s\n",
      "[Parallel(n_jobs=2)]: Done 1020 tasks      | elapsed:    0.1s\n",
      "[Parallel(n_jobs=2)]: Done 1276 tasks      | elapsed:    0.1s\n",
      "[Parallel(n_jobs=2)]: Batch computation too fast (0.0060s.) Setting batch_size=512.\n",
      "[Parallel(n_jobs=2)]: Done 1532 tasks      | elapsed:    0.1s\n",
      "[Parallel(n_jobs=2)]: Done 1788 tasks      | elapsed:    0.1s\n",
      "[Parallel(n_jobs=2)]: Done 2044 tasks      | elapsed:    0.1s\n",
      "[Parallel(n_jobs=2)]: Done 2556 tasks      | elapsed:    0.1s\n",
      "[Parallel(n_jobs=2)]: Batch computation too fast (0.0076s.) Setting batch_size=1024.\n",
      "[Parallel(n_jobs=2)]: Done 3068 tasks      | elapsed:    0.1s\n",
      "[Parallel(n_jobs=2)]: Done 3580 tasks      | elapsed:    0.1s\n",
      "[Parallel(n_jobs=2)]: Done 4092 tasks      | elapsed:    0.1s\n",
      "[Parallel(n_jobs=2)]: Done 5116 tasks      | elapsed:    0.1s\n",
      "[Parallel(n_jobs=2)]: Batch computation too fast (0.0103s.) Setting batch_size=2048.\n",
      "[Parallel(n_jobs=2)]: Done 6140 tasks      | elapsed:    0.1s\n",
      "[Parallel(n_jobs=2)]: Done 7164 tasks      | elapsed:    0.1s\n",
      "[Parallel(n_jobs=2)]: Done 8188 tasks      | elapsed:    0.1s\n",
      "[Parallel(n_jobs=2)]: Done 10236 tasks      | elapsed:    0.1s\n",
      "[Parallel(n_jobs=2)]: Batch computation too fast (0.0132s.) Setting batch_size=4096.\n",
      "[Parallel(n_jobs=2)]: Done 12284 tasks      | elapsed:    0.1s\n",
      "[Parallel(n_jobs=2)]: Done 14332 tasks      | elapsed:    0.1s\n",
      "[Parallel(n_jobs=2)]: Done 16380 tasks      | elapsed:    0.1s\n",
      "[Parallel(n_jobs=2)]: Done 20476 tasks      | elapsed:    0.1s\n",
      "[Parallel(n_jobs=2)]: Batch computation too fast (0.0455s.) Setting batch_size=8192.\n",
      "[Parallel(n_jobs=2)]: Done 24572 tasks      | elapsed:    0.1s\n",
      "[Parallel(n_jobs=2)]: Done 28668 tasks      | elapsed:    0.2s\n",
      "[Parallel(n_jobs=2)]: Done 32764 tasks      | elapsed:    0.2s\n",
      "[Parallel(n_jobs=2)]: Done 40956 tasks      | elapsed:    0.2s\n",
      "[Parallel(n_jobs=2)]: Batch computation too fast (0.0697s.) Setting batch_size=16384.\n",
      "[Parallel(n_jobs=2)]: Done 49148 tasks      | elapsed:    0.2s\n",
      "[Parallel(n_jobs=2)]: Done 57340 tasks      | elapsed:    0.3s\n",
      "[Parallel(n_jobs=2)]: Done 65532 tasks      | elapsed:    0.3s\n",
      "[Parallel(n_jobs=2)]: Done 81916 tasks      | elapsed:    0.4s\n",
      "[Parallel(n_jobs=2)]: Batch computation too fast (0.1737s.) Setting batch_size=32768.\n",
      "[Parallel(n_jobs=2)]: Done 82001 tasks      | elapsed:    0.4s\n",
      "[Parallel(n_jobs=2)]: Done 82086 tasks      | elapsed:    0.4s\n",
      "[Parallel(n_jobs=2)]: Done 82171 tasks      | elapsed:    0.4s\n",
      "[Parallel(n_jobs=2)]: Done 82256 tasks      | elapsed:    0.4s\n",
      "[Parallel(n_jobs=2)]: Done 82341 tasks      | elapsed:    0.4s\n",
      "[Parallel(n_jobs=2)]: Done 82426 tasks      | elapsed:    0.4s\n",
      "[Parallel(n_jobs=2)]: Done 98810 tasks      | elapsed:    0.4s\n",
      "[Parallel(n_jobs=2)]: Done 98895 tasks      | elapsed:    0.4s\n",
      "[Parallel(n_jobs=2)]: Done 98980 tasks      | elapsed:    0.4s\n",
      "[Parallel(n_jobs=2)]: Done 99065 tasks      | elapsed:    0.4s\n",
      "[Parallel(n_jobs=2)]: Done 99150 tasks      | elapsed:    0.4s\n",
      "[Parallel(n_jobs=2)]: Done 99235 tasks      | elapsed:    0.4s\n",
      "[Parallel(n_jobs=2)]: Done 99320 tasks      | elapsed:    0.4s\n",
      "[Parallel(n_jobs=2)]: Done 99405 tasks      | elapsed:    0.4s\n",
      "[Parallel(n_jobs=2)]: Done 99490 tasks      | elapsed:    0.4s\n",
      "[Parallel(n_jobs=2)]: Done 99575 tasks      | elapsed:    0.4s\n",
      "[Parallel(n_jobs=2)]: Done 99660 tasks      | elapsed:    0.4s\n",
      "[Parallel(n_jobs=2)]: Done 99745 tasks      | elapsed:    0.4s\n",
      "[Parallel(n_jobs=2)]: Done 100000 out of 100000 | elapsed:    0.4s finished\n"
     ]
    }
   ],
   "source": [
    "with Parallel(n_jobs=2, verbose=50) as parallel_pool:\n",
    "    parallel_results = parallel_pool(tasks)"
   ]
  },
  {
   "cell_type": "markdown",
   "id": "9a8f1312",
   "metadata": {},
   "source": [
    "Notice that the output is now with a white background instead of a red background. For a verbosity higher than fifty, the output is printed to `stdout`. This might be useful for advanced use cases where one needs to have control over the output stream.\n",
    "\n",
    "Also, you can see the effect of the batch size increase in the output: the number of tasks completed indeed increases with the batch size."
   ]
  },
  {
   "cell_type": "code",
   "execution_count": 5,
   "id": "d151654f",
   "metadata": {},
   "outputs": [],
   "source": [
    "# Actividad:\n",
    "\n",
    "def my_task(n):\n",
    "    my_sum = 0\n",
    "    for m in range(n):\n",
    "        my_sum += m\n",
    "    return my_sum\n",
    "\n",
    "tasks = [delayed(my_task)(i) for i in range(100000)]"
   ]
  },
  {
   "cell_type": "code",
   "execution_count": 6,
   "id": "2225e21e",
   "metadata": {},
   "outputs": [
    {
     "name": "stderr",
     "output_type": "stream",
     "text": [
      "[Parallel(n_jobs=2)]: Using backend LokyBackend with 2 concurrent workers.\n",
      "[Parallel(n_jobs=2)]: Done   1 tasks      | elapsed:    0.0s\n",
      "[Parallel(n_jobs=2)]: Batch computation too fast (0.0043s.) Setting batch_size=2.\n",
      "[Parallel(n_jobs=2)]: Done   4 tasks      | elapsed:    0.0s\n",
      "[Parallel(n_jobs=2)]: Batch computation too fast (0.0101s.) Setting batch_size=4.\n",
      "[Parallel(n_jobs=2)]: Done  16 tasks      | elapsed:    0.0s\n",
      "[Parallel(n_jobs=2)]: Batch computation too fast (0.0080s.) Setting batch_size=8.\n",
      "[Parallel(n_jobs=2)]: Batch computation too fast (0.0080s.) Setting batch_size=16.\n",
      "[Parallel(n_jobs=2)]: Done  44 tasks      | elapsed:    0.0s\n",
      "[Parallel(n_jobs=2)]: Batch computation too fast (0.0080s.) Setting batch_size=32.\n",
      "[Parallel(n_jobs=2)]: Done 156 tasks      | elapsed:    0.0s\n",
      "[Parallel(n_jobs=2)]: Batch computation too fast (0.0080s.) Setting batch_size=64.\n",
      "[Parallel(n_jobs=2)]: Batch computation too fast (0.0080s.) Setting batch_size=128.\n",
      "[Parallel(n_jobs=2)]: Done 508 tasks      | elapsed:    0.0s\n",
      "[Parallel(n_jobs=2)]: Batch computation too fast (0.0080s.) Setting batch_size=256.\n",
      "[Parallel(n_jobs=2)]: Batch computation too fast (0.0320s.) Setting batch_size=512.\n",
      "[Parallel(n_jobs=2)]: Done 2556 tasks      | elapsed:    0.1s\n",
      "[Parallel(n_jobs=2)]: Batch computation too fast (0.1069s.) Setting batch_size=1024.\n",
      "[Parallel(n_jobs=2)]: Done 10236 tasks      | elapsed:    1.6s\n",
      "[Parallel(n_jobs=2)]: Done 21500 tasks      | elapsed:    7.0s\n",
      "[Parallel(n_jobs=2)]: Batch computation too slow (2.0266s.) Setting batch_size=202.\n",
      "[Parallel(n_jobs=2)]: Done 27832 tasks      | elapsed:   10.3s\n",
      "[Parallel(n_jobs=2)]: Done 30458 tasks      | elapsed:   11.7s\n",
      "[Parallel(n_jobs=2)]: Done 33084 tasks      | elapsed:   13.2s\n",
      "[Parallel(n_jobs=2)]: Done 36114 tasks      | elapsed:   15.1s\n",
      "[Parallel(n_jobs=2)]: Done 39144 tasks      | elapsed:   17.2s\n",
      "[Parallel(n_jobs=2)]: Done 42578 tasks      | elapsed:   19.6s\n",
      "[Parallel(n_jobs=2)]: Done 46012 tasks      | elapsed:   22.4s\n",
      "[Parallel(n_jobs=2)]: Done 49850 tasks      | elapsed:   25.7s\n",
      "[Parallel(n_jobs=2)]: Done 53688 tasks      | elapsed:   29.3s\n",
      "[Parallel(n_jobs=2)]: Done 57930 tasks      | elapsed:   33.5s\n",
      "[Parallel(n_jobs=2)]: Done 62172 tasks      | elapsed:   38.2s\n",
      "[Parallel(n_jobs=2)]: Done 66818 tasks      | elapsed:   43.7s\n",
      "[Parallel(n_jobs=2)]: Done 71464 tasks      | elapsed:   49.8s\n",
      "[Parallel(n_jobs=2)]: Done 76514 tasks      | elapsed:   56.6s\n",
      "[Parallel(n_jobs=2)]: Done 81564 tasks      | elapsed:  1.1min\n",
      "[Parallel(n_jobs=2)]: Done 87018 tasks      | elapsed:  1.2min\n",
      "[Parallel(n_jobs=2)]: Done 92472 tasks      | elapsed:  1.4min\n",
      "[Parallel(n_jobs=2)]: Done 98330 tasks      | elapsed:  1.5min\n",
      "[Parallel(n_jobs=2)]: Done 100000 out of 100000 | elapsed:  1.6min finished\n"
     ]
    }
   ],
   "source": [
    "with Parallel(n_jobs=2, verbose=10) as parallel_pool:\n",
    "    parallel_results = parallel_pool(tasks)"
   ]
  },
  {
   "cell_type": "code",
   "execution_count": null,
   "id": "9940c77b",
   "metadata": {},
   "outputs": [],
   "source": []
  }
 ],
 "metadata": {
  "kernelspec": {
   "display_name": "Python 3.10.4 64-bit",
   "language": "python",
   "name": "python3"
  },
  "language_info": {
   "codemirror_mode": {
    "name": "ipython",
    "version": 3
   },
   "file_extension": ".py",
   "mimetype": "text/x-python",
   "name": "python",
   "nbconvert_exporter": "python",
   "pygments_lexer": "ipython3",
   "version": "3.10.4"
  },
  "vscode": {
   "interpreter": {
    "hash": "7600a12950a547366bb7a6732117e300ffd26224351912980486e1126c5d0f9a"
   }
  }
 },
 "nbformat": 4,
 "nbformat_minor": 5
}
